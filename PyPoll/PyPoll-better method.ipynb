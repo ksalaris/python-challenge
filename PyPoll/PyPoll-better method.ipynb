{
 "cells": [
  {
   "cell_type": "code",
   "execution_count": 1,
   "metadata": {},
   "outputs": [],
   "source": [
    "import os\n",
    "import csv"
   ]
  },
  {
   "cell_type": "code",
   "execution_count": 32,
   "metadata": {},
   "outputs": [],
   "source": [
    "csvpath = os.path.join('election_data.csv')"
   ]
  },
  {
   "cell_type": "code",
   "execution_count": 38,
   "metadata": {},
   "outputs": [
    {
     "name": "stdout",
     "output_type": "stream",
     "text": [
      "Khan\n"
     ]
    }
   ],
   "source": [
    "with open(csvpath, newline='') as csvfile:\n",
    "    csvreader = csv.reader(csvfile, delimiter=',')\n",
    "    csv_header = next(csvreader,None)\n",
    "    \n",
    "    data = list(csvreader)\n",
    "   \n",
    "    \n",
    "    #The total number of votes cast\n",
    "    total_votes = len(data) \n",
    " \n",
    "    #A complete list of candidates who received votes\n",
    "    candidates = []\n",
    "    for row in data:\n",
    "        if row[2] not in candidates:\n",
    "            candidates.append(row[2])\n",
    " \n",
    "    percentages = []\n",
    "    vote_counts=[]\n",
    "    all_votes=[]\n",
    "    for row in candidates:\n",
    "        for i in range(0,total_votes,1):\n",
    "            if row == data[i][2]:\n",
    "                vote_counts.append(data[0])\n",
    "        all_votes.append(len(vote_counts))\n",
    "        percentages.append(round(((len(vote_counts))/total_votes)*100,3))\n",
    "        vote_counts.clear()\n",
    "        \n",
    "    candidates_votes = dict(zip(candidates,all_votes))\n",
    "    winner = max(candidates_votes.keys(),key=lambda v: candidates_votes[v]) \n",
    "    \n",
    "  \n",
    "\n"
   ]
  },
  {
   "cell_type": "code",
   "execution_count": 41,
   "metadata": {},
   "outputs": [
    {
     "name": "stdout",
     "output_type": "stream",
     "text": [
      "Election Results\n",
      "-------------------------\n",
      "Total Votes: 3521001\n",
      "-------------------------\n",
      "Khan: 63.0% (2218231) \n",
      "Correy: 20.0% (704200) \n",
      "Li: 14.0% (492940) \n",
      "O'Tooley: 3.0% (105630) \n",
      "-------------------------\n",
      "Winner: Khan\n",
      "-------------------------\n"
     ]
    }
   ],
   "source": [
    "print(\"Election Results\")\n",
    "print(\"-------------------------\")\n",
    "print(f\"Total Votes: {total_votes}\")\n",
    "print(\"-------------------------\")\n",
    "for i in range(0,len(candidates),1):\n",
    "    print(f\"{candidates[i]}: {percentages[i]}% ({all_votes[i]}) \")\n",
    "print(\"-------------------------\")\n",
    "print(f\"Winner: {winner}\")\n",
    "print(\"-------------------------\")"
   ]
  },
  {
   "cell_type": "code",
   "execution_count": 42,
   "metadata": {},
   "outputs": [],
   "source": [
    "file = open(\"output.txt\",\"w\")\n",
    "file.write(\"Election Results\"+ '\\n')\n",
    "file.write(\"-------------------------\"+ '\\n')\n",
    "file.write(f\"Total Votes: {total_votes}\"+ '\\n')\n",
    "file.write(\"-------------------------\"+ '\\n')\n",
    "for i in range(0,len(candidates),1):\n",
    "    file.write(f\"{candidates[i]}: {percentages[i]}% ({all_votes[i]}) \"+ '\\n')\n",
    "file.write(\"-------------------------\"+ '\\n')\n",
    "file.write(f\"Winner: {winner}\"+ '\\n')\n",
    "file.write(\"-------------------------\"+ '\\n')\n",
    "\n",
    "file.close()"
   ]
  },
  {
   "cell_type": "code",
   "execution_count": null,
   "metadata": {},
   "outputs": [],
   "source": []
  }
 ],
 "metadata": {
  "kernelspec": {
   "display_name": "Python 3",
   "language": "python",
   "name": "python3"
  },
  "language_info": {
   "codemirror_mode": {
    "name": "ipython",
    "version": 3
   },
   "file_extension": ".py",
   "mimetype": "text/x-python",
   "name": "python",
   "nbconvert_exporter": "python",
   "pygments_lexer": "ipython3",
   "version": "3.7.1"
  }
 },
 "nbformat": 4,
 "nbformat_minor": 2
}
