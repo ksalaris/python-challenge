{
 "cells": [
  {
   "cell_type": "code",
   "execution_count": 1,
   "metadata": {},
   "outputs": [],
   "source": [
    "import os\n",
    "import csv"
   ]
  },
  {
   "cell_type": "code",
   "execution_count": 2,
   "metadata": {},
   "outputs": [],
   "source": [
    "csvpath = os.path.join('election_data.csv')"
   ]
  },
  {
   "cell_type": "code",
   "execution_count": 5,
   "metadata": {},
   "outputs": [
    {
     "name": "stdout",
     "output_type": "stream",
     "text": [
      "Khan\n"
     ]
    }
   ],
   "source": [
    "with open(csvpath, newline='') as csvfile:\n",
    "    csvreader = csv.reader(csvfile, delimiter=',')\n",
    "    csv_header = next(csvreader,None)\n",
    "    \n",
    "    data = list(csvreader)\n",
    "   \n",
    "    \n",
    "    #The total number of votes cast\n",
    "    total_votes = len(data) \n",
    "    \n",
    "    #A complete list of candidates who received votes\n",
    "    candidates = []\n",
    "    for row in data:\n",
    "        if row[2] not in candidates:\n",
    "            candidates.append(row[2])\n",
    "    \n",
    "    khan = 0\n",
    "    correy = 0\n",
    "    li = 0\n",
    "    otooley = 0\n",
    "    \n",
    "    for row in data:\n",
    "        if row[2] == candidates[0]:\n",
    "            khan += 1\n",
    "        if row[2] == candidates[1]:\n",
    "            correy += 1\n",
    "        if row[2] == candidates[2]:\n",
    "            li += 1\n",
    "        if row[2] == candidates[3]:\n",
    "            otooley += 1\n",
    "    \n",
    "                \n",
    "    #The percentage of votes each candidate won\n",
    "    pk = 0\n",
    "    pc = 0\n",
    "    pl = 0\n",
    "    po = 0\n",
    "    \n",
    "    pk = round(((khan/total_votes)*100),2)\n",
    "    pc = round(((correy/total_votes)*100),2)\n",
    "    pl = round(((li/total_votes)*100),2)\n",
    "    po = round(((otooley/total_votes)*100),2)\n",
    "    \n",
    "\n",
    "    #The winner of the election based on popular vote.\n",
    "    votes = [khan, correy, li, otooley]\n",
    "    candidates_votes = dict(zip(candidates,votes))\n",
    "    \n",
    "    winner = max(candidates_votes.keys(),key=lambda v: candidates_votes[v]) \n",
    "    print(winner)\n",
    "\n",
    "\n"
   ]
  },
  {
   "cell_type": "code",
   "execution_count": 6,
   "metadata": {},
   "outputs": [
    {
     "name": "stdout",
     "output_type": "stream",
     "text": [
      "Election Results\n",
      "-------------------------\n",
      "Total Votes: 3521001\n",
      "-------------------------\n",
      "Khan: 63.0% (2218231)\n",
      "Correy: 20.0% (704200)\n",
      "Li: 14.0% (492940)\n",
      "O'Tooley: 3.0% (105630)\n",
      "-------------------------\n",
      "Winner: Khan\n",
      "-------------------------\n"
     ]
    }
   ],
   "source": [
    "print(\"Election Results\")\n",
    "print(\"-------------------------\")\n",
    "print(f\"Total Votes: {total_votes}\")\n",
    "print(\"-------------------------\")\n",
    "print(f\"Khan: {pk}% ({khan})\")\n",
    "print(f\"Correy: {pc}% ({correy})\")\n",
    "print(f\"Li: {pl}% ({li})\")\n",
    "print(f\"O'Tooley: {po}% ({otooley})\")\n",
    "print(\"-------------------------\")\n",
    "print(f\"Winner: {winner}\")\n",
    "print(\"-------------------------\")\n",
    "\n"
   ]
  },
  {
   "cell_type": "code",
   "execution_count": 7,
   "metadata": {},
   "outputs": [],
   "source": [
    "file = open(\"output.txt\",\"w\")\n",
    "file.write(\"Election Results\")\n",
    "file.write(\"-------------------------\")\n",
    "file.write(f\"Total Votes: {total_votes}\")\n",
    "file.write(\"-------------------------\")\n",
    "file.write(f\"Khan: {pk}% ({khan})\")\n",
    "file.write(f\"Correy: {pc}% ({correy})\")\n",
    "file.write(f\"Li: {pl}% ({li})\")\n",
    "file.write(f\"O'Tooley: {po}% ({otooley})\")\n",
    "file.write(\"-------------------------\")\n",
    "file.write(f\"Winner: {winner}\")\n",
    "file.write(\"-------------------------\")\n",
    "\n",
    "file.close()"
   ]
  },
  {
   "cell_type": "code",
   "execution_count": null,
   "metadata": {},
   "outputs": [],
   "source": []
  }
 ],
 "metadata": {
  "kernelspec": {
   "display_name": "Python 3",
   "language": "python",
   "name": "python3"
  },
  "language_info": {
   "codemirror_mode": {
    "name": "ipython",
    "version": 3
   },
   "file_extension": ".py",
   "mimetype": "text/x-python",
   "name": "python",
   "nbconvert_exporter": "python",
   "pygments_lexer": "ipython3",
   "version": "3.7.1"
  }
 },
 "nbformat": 4,
 "nbformat_minor": 2
}
