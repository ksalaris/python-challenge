{
 "cells": [
  {
   "cell_type": "code",
   "execution_count": 1,
   "metadata": {},
   "outputs": [],
   "source": [
    "import os\n",
    "import csv\n",
    "\n"
   ]
  },
  {
   "cell_type": "code",
   "execution_count": 2,
   "metadata": {},
   "outputs": [],
   "source": [
    "csvpath = os.path.join('budget_data.csv')"
   ]
  },
  {
   "cell_type": "code",
   "execution_count": 5,
   "metadata": {
    "scrolled": true
   },
   "outputs": [],
   "source": [
    "with open(csvpath, newline='') as csvfile:\n",
    "    csvreader = csv.reader(csvfile, delimiter=',')\n",
    "    #testing that it is open print(csvreader)\n",
    "    csv_header = next(csvreader, None)\n",
    "    \n",
    "    #The total number of months included in the dataset\n",
    "    data = list(csvreader)\n",
    "    total_months = len(data)\n",
    "   \n",
    "    #The net total amount of \"Profit/Losses\" over the entire period\n",
    "    total_net = 0.0\n",
    "    for row in data:\n",
    "        total_net += (float(row[1]))\n",
    "            \n",
    "    #The average of the changes in \"Profit/Losses\" over the entire period\n",
    "    all_nets = []\n",
    "    average_change = []\n",
    "    change = 0\n",
    "    for column in data:\n",
    "        all_nets.append(int(column[1]))\n",
    "    for i in range(1,86,1):\n",
    "        change = all_nets[i] - all_nets[i-1]\n",
    "        average_change.append(change)\n",
    "        \n",
    "    avg_change = round((sum(average_change)/len(average_change)),2)\n",
    "    \n",
    "#The greatest increase in profits (date and amount) over the entire period\n",
    "    max_net = 0.0\n",
    "    max_mo = []\n",
    "    for i in range(0,86,1):\n",
    "        if all_nets[i] > max_net:\n",
    "            max_net = average_change[i]\n",
    "            max_mo = data[i+1]\n",
    "#The greatest decrease in losses (date and amount) over the entire period\n",
    "    min_net = 0.0\n",
    "    min_mo = []\n",
    "    for i in range(0,85,1):\n",
    "        if average_change[i] < min_net:\n",
    "            min_net = average_change[i]\n",
    "            min_mo = data[i+1]"
   ]
  },
  {
   "cell_type": "code",
   "execution_count": 7,
   "metadata": {},
   "outputs": [
    {
     "name": "stdout",
     "output_type": "stream",
     "text": [
      "Financial Analysis\n",
      "-----------------------------------------------------\n",
      "Total Months: 86\n",
      "Total Profit: 38382578.0\n",
      "Average Change: $-2315.12\n",
      "Greatest Increase in Profits: Feb-2012, $1926159\n",
      "Greatest Decrease in Profits: Sep-2013, $-2196167\n"
     ]
    }
   ],
   "source": [
    "#print answers\n",
    "print(\"Financial Analysis\")\n",
    "print(\"-----------------------------------------------------\")\n",
    "print(f\"Total Months: {total_months}\")\n",
    "print(f\"Total Profit: {total_net}\")\n",
    "print(f\"Average Change: ${avg_change}\")\n",
    "print(f\"Greatest Increase in Profits: {max_mo[0]}, ${max_net}\")\n",
    "print(f\"Greatest Decrease in Profits: {min_mo[0]}, ${min_net}\")"
   ]
  },
  {
   "cell_type": "code",
   "execution_count": null,
   "metadata": {},
   "outputs": [],
   "source": []
  }
 ],
 "metadata": {
  "kernelspec": {
   "display_name": "Python 3",
   "language": "python",
   "name": "python3"
  },
  "language_info": {
   "codemirror_mode": {
    "name": "ipython",
    "version": 3
   },
   "file_extension": ".py",
   "mimetype": "text/x-python",
   "name": "python",
   "nbconvert_exporter": "python",
   "pygments_lexer": "ipython3",
   "version": "3.7.1"
  }
 },
 "nbformat": 4,
 "nbformat_minor": 2
}
